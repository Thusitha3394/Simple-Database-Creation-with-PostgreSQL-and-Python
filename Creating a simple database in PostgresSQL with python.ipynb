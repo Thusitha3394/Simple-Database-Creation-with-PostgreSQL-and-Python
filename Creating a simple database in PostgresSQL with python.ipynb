{
 "cells": [
  {
   "cell_type": "markdown",
   "id": "e4617cfd",
   "metadata": {},
   "source": [
    "## Creating a table with PostgreSQL"
   ]
  },
  {
   "cell_type": "code",
   "execution_count": 1,
   "id": "d61c57b8",
   "metadata": {},
   "outputs": [
    {
     "name": "stdout",
     "output_type": "stream",
     "text": [
      "Collecting psycopg2\n",
      "  Downloading psycopg2-2.9.5-cp39-cp39-win_amd64.whl (1.2 MB)\n",
      "Installing collected packages: psycopg2\n",
      "Successfully installed psycopg2-2.9.5\n"
     ]
    }
   ],
   "source": [
    "!pip install psycopg2"
   ]
  },
  {
   "cell_type": "markdown",
   "id": "2f95ee45",
   "metadata": {},
   "source": [
    "### Import the Library"
   ]
  },
  {
   "cell_type": "code",
   "execution_count": 2,
   "id": "ab8764e6",
   "metadata": {},
   "outputs": [],
   "source": [
    "import psycopg2"
   ]
  },
  {
   "cell_type": "markdown",
   "id": "c4ab3950",
   "metadata": {},
   "source": [
    "### Create a connection to the database"
   ]
  },
  {
   "cell_type": "code",
   "execution_count": 3,
   "id": "d51a640b",
   "metadata": {},
   "outputs": [],
   "source": [
    "try:\n",
    "    conn = psycopg2.connect(\"host=127.0.0.1 dbname=postgres user=postgres password=root\")\n",
    "except psycopg2.Error as e:\n",
    "    print(\"Error: Could not get connected to the postgres database\")\n",
    "    print(e)"
   ]
  },
  {
   "cell_type": "markdown",
   "id": "ceb35f4a",
   "metadata": {},
   "source": [
    "### Use the connection to get a curser that can be used to execute queries"
   ]
  },
  {
   "cell_type": "code",
   "execution_count": 4,
   "id": "4f2bbac8",
   "metadata": {},
   "outputs": [],
   "source": [
    "try:\n",
    "    cur = conn.cursor()\n",
    "except psycopg2.Error as e:\n",
    "    print(\"Error: Could not get cursor to the database\")\n",
    "    print(e)\n",
    "    "
   ]
  },
  {
   "cell_type": "markdown",
   "id": "f4eb55aa",
   "metadata": {},
   "source": [
    "### Set automatic commit to be true so that each action is committed without having to call con.commit() after each command"
   ]
  },
  {
   "cell_type": "code",
   "execution_count": 6,
   "id": "5f67ce9b",
   "metadata": {},
   "outputs": [],
   "source": [
    "conn.set_session(autocommit = True)"
   ]
  },
  {
   "cell_type": "markdown",
   "id": "ea9d46e9",
   "metadata": {},
   "source": [
    "### Create Database to work in"
   ]
  },
  {
   "cell_type": "code",
   "execution_count": 7,
   "id": "9f25322f",
   "metadata": {},
   "outputs": [],
   "source": [
    "try:\n",
    "    cur.execute(\"create database myfirstdb\")\n",
    "except psycopg2.Error as e:\n",
    "    print(e)"
   ]
  },
  {
   "cell_type": "markdown",
   "id": "d7771091",
   "metadata": {},
   "source": [
    "### close the current defalt database postgres and connect to the newly created database myfirstdb"
   ]
  },
  {
   "cell_type": "code",
   "execution_count": 9,
   "id": "60504fa9",
   "metadata": {},
   "outputs": [],
   "source": [
    "try:\n",
    "    conn.close()\n",
    "except psycopg2.Error as e:\n",
    "    print(e)\n",
    "    \n",
    "try:\n",
    "    conn = psycopg2.connect(\"host=127.0.0.1 dbname=myfirstdb user=postgres password=root\")\n",
    "except psycopg2.Error as e:\n",
    "    print(\"Error: Could not get connected to the postgres database\")\n",
    "    print(e)\n",
    "    \n",
    "try:\n",
    "    cur = conn.cursor()\n",
    "except psycopg2.Error as e:\n",
    "    print(\"Error: Could not get cursor to the database\")\n",
    "    print(e)\n",
    "    \n",
    "conn.set_session(autocommit = True)"
   ]
  },
  {
   "cell_type": "markdown",
   "id": "810b7ef9",
   "metadata": {},
   "source": [
    "### Creating the table student"
   ]
  },
  {
   "cell_type": "raw",
   "id": "804ad773",
   "metadata": {},
   "source": [
    "student_id\n",
    "name\n",
    "age\n",
    "gender\n",
    "subject\n",
    "marks\n"
   ]
  },
  {
   "cell_type": "code",
   "execution_count": 12,
   "id": "bb31cebe",
   "metadata": {},
   "outputs": [],
   "source": [
    "try:\n",
    "    cur.execute(\"create table IF NOT EXISTS students(student_id int, name varchar, age int,\\\n",
    "    gender varchar, subject varchar, marks int);\")\n",
    "except psycopg2.Error as e:\n",
    "    print(\"An issue occured while creating the table\")\n",
    "    print(e)"
   ]
  },
  {
   "cell_type": "markdown",
   "id": "92ae98c0",
   "metadata": {},
   "source": [
    "### Inserting data into the students table"
   ]
  },
  {
   "cell_type": "code",
   "execution_count": 14,
   "id": "23320227",
   "metadata": {},
   "outputs": [],
   "source": [
    "try:\n",
    "    cur.execute(\"Insert into students(student_id,name,age,gender,subject,marks)\\\n",
    "    values(%s,%s,%s,%s,%s,%s)\",(1,\"Thusitha\",28,\"Male\",\"Mathematics\",97))\n",
    "except psycopg2.Error as e:\n",
    "    print(\"Error:Inserting Rows\")\n",
    "    \n",
    "    \n",
    "\n",
    "try:\n",
    "    cur.execute(\"Insert into students(student_id,name,age,gender,subject,marks)\\\n",
    "    values(%s,%s,%s,%s,%s,%s)\",(2,\"Aruni\",28,\"Female\",\"Biology\",99))\n",
    "except psycopg2.Error as e:\n",
    "    print(\"Error:Inserting Rows\")"
   ]
  },
  {
   "cell_type": "markdown",
   "id": "4e912696",
   "metadata": {},
   "source": [
    "### Retrieving Data from Students table"
   ]
  },
  {
   "cell_type": "code",
   "execution_count": 18,
   "id": "a6e06ce9",
   "metadata": {},
   "outputs": [
    {
     "name": "stdout",
     "output_type": "stream",
     "text": [
      "(1, 'Thusitha', 28, 'Male', 'Mathematics', 97)\n",
      "(2, 'Aruni', 28, 'Female', 'Biology', 99)\n"
     ]
    }
   ],
   "source": [
    "try:\n",
    "    cur.execute(\"SELECT * FROM students;\")\n",
    "except psycopg2.Error as e:\n",
    "    print(\"Error: Select\")\n",
    "    print(e)\n",
    "    \n",
    "row = cur.fetchone()\n",
    "while row:\n",
    "    print(row)\n",
    "    row = cur.fetchone()\n",
    "    "
   ]
  },
  {
   "cell_type": "code",
   "execution_count": 19,
   "id": "310f4a5e",
   "metadata": {},
   "outputs": [],
   "source": [
    "cur.close()\n",
    "conn.close()"
   ]
  },
  {
   "cell_type": "code",
   "execution_count": null,
   "id": "83bd1cc0",
   "metadata": {},
   "outputs": [],
   "source": []
  }
 ],
 "metadata": {
  "kernelspec": {
   "display_name": "Python 3 (ipykernel)",
   "language": "python",
   "name": "python3"
  },
  "language_info": {
   "codemirror_mode": {
    "name": "ipython",
    "version": 3
   },
   "file_extension": ".py",
   "mimetype": "text/x-python",
   "name": "python",
   "nbconvert_exporter": "python",
   "pygments_lexer": "ipython3",
   "version": "3.9.7"
  }
 },
 "nbformat": 4,
 "nbformat_minor": 5
}
